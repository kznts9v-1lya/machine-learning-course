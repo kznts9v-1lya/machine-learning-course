{
 "cells": [
  {
   "cell_type": "markdown",
   "source": [
    "## Кузнецов Илья Александрович, 471 группа\n",
    "# Задача 2. Сравнение методов классификации"
   ],
   "metadata": {
    "collapsed": false
   }
  },
  {
   "cell_type": "markdown",
   "source": [
    "## Задачи\n",
    "\n",
    "[x] Самостоятельно реализовать один из методов классификации, с возможностью настройки гиперпараметров.\n",
    "[ ] Взять данные для предсказания заболеваний сердца [тут](https://github.com/rustam-azimov/ml-course/tree/main/data/heart_disease) (целевой признак для предсказания --- **target**). Демо блакнот с анализом этих данных можно найти [тут](https://github.com/rustam-azimov/ml-course/blob/main/practice/practice07_knn_nb/practice07_part02_classification_heart_disease_demo.ipynb).\n",
    "[ ] Считать данные, выполнить первичный анализ данных, при необходимости произвести чистку данных (**Data Cleaning**).\n",
    "[ ] Выполнить разведочный анализ (**EDA**), использовать визуализацию, сделать выводы, которые могут быть полезны при дальнейшем решении задачи классификации.\n",
    "[ ] При необходимости выполнить полезные преобразования данных (например, трансформировать категориальные признаки в количественные), убрать ненужные признаки, создать новые (**Feature Engineering**).\n",
    "[ ] Используя **подбор гиперпараметров**, **кросс-валидацию** и при необходимости **масштабирование данных**, добиться наилучшего качества предсказания от Вашей реализации на выделенной заранее тестовой выборке.\n",
    "[ ] Повторить предыдущий пункт для библиотечных реализаций (например, из **sklearn**) всех пройденных методов классификации (**logistic regression, svm, knn, naive bayes, decision tree**).\n",
    "[ ] Сравнить все обученные модели, построить их **confusion matrices**. Сделать выводы о полученных моделях в рамках решения задачи классификации на выбранных данных.\n",
    "[ ] * (**+2 балла**) Реализовать еще один из методов классификации и добавить его в сравнение.\n",
    "[ ] * (**+2 балла**) Найти данные, на которых интересно будет решать задачу классификации. Повторить все пункты задания на новых данных."
   ],
   "metadata": {
    "collapsed": false
   }
  },
  {
   "cell_type": "code",
   "execution_count": 402,
   "outputs": [],
   "source": [
    "%precision 4\n",
    "import warnings\n",
    "warnings.filterwarnings('ignore')"
   ],
   "metadata": {
    "collapsed": false
   }
  },
  {
   "cell_type": "markdown",
   "source": [
    "## Реализация метода K ближайших соседей (KNN)"
   ],
   "metadata": {
    "collapsed": false
   }
  },
  {
   "cell_type": "code",
   "execution_count": 403,
   "outputs": [],
   "source": [
    "from sklearn.base import BaseEstimator, ClassifierMixin\n",
    "from numpy import sqrt\n",
    "\n",
    "class KNNClassifier(BaseEstimator, ClassifierMixin):\n",
    "    def __init__(self, num_neighbors):\n",
    "        self._num_neighbors = num_neighbors\n",
    "\n",
    "    def fit(self, X_train, y_train):\n",
    "        self._X_train = X_train\n",
    "        self._y_train = y_train\n",
    "\n",
    "    def predict(self, X_test):\n",
    "        predictions = []\n",
    "        for test_row in X_test:\n",
    "            neighbors_indexes = self._get_neighbors_indexes(test_row)\n",
    "            label = self._most_popular_label(neighbors_indexes)\n",
    "            predictions.append(label)\n",
    "        return predictions\n",
    "\n",
    "    def _get_neighbors_indexes(self, test_row):\n",
    "        distances = list()\n",
    "        for i, train_row in enumerate(self._X_train):\n",
    "            dist = self._euclidean_distance(test_row, train_row)\n",
    "            distances.append((i, dist))\n",
    "        distances.sort(key=lambda tupl: tupl[1])\n",
    "        neighbors_indexes = list()\n",
    "        for i in range(self._num_neighbors):\n",
    "            neighbors_indexes.append(distances[i][0])\n",
    "        return neighbors_indexes\n",
    "\n",
    "    def _most_popular_label(self, neighbors_indexes):\n",
    "        labels = []\n",
    "        for i in neighbors_indexes:\n",
    "            labels.append(self._y_train[i])\n",
    "        label = max(set(labels), key=labels.count)\n",
    "        return label\n",
    "\n",
    "    def _euclidean_distance(self, row1, row2):\n",
    "        distance = 0.0\n",
    "        for i in range(len(row1) - 1):\n",
    "            distance += (row1[i] - row2[i]) ** 2\n",
    "        return sqrt(distance)\n",
    "\n",
    "    def get_params(self, deep=True):\n",
    "        return {\"num_neighbors\": self._num_neighbors}\n",
    "\n",
    "    def set_params(self, **parameters):\n",
    "        for parameter, value in parameters.items():\n",
    "            setattr(self, parameter, value)\n",
    "        return self"
   ],
   "metadata": {
    "collapsed": false
   }
  },
  {
   "cell_type": "code",
   "execution_count": 404,
   "outputs": [
    {
     "data": {
      "text/plain": "0.9600"
     },
     "execution_count": 404,
     "metadata": {},
     "output_type": "execute_result"
    }
   ],
   "source": [
    "import pandas as pd\n",
    "from sklearn import tree\n",
    "from scipy.spatial import distance\n",
    "from sklearn.datasets import load_iris\n",
    "from sklearn.metrics import accuracy_score\n",
    "from sklearn.model_selection import train_test_split\n",
    "\n",
    "iris = load_iris()\n",
    "\n",
    "data = iris.data\n",
    "target = iris.target\n",
    "\n",
    "train_data, test_data, train_target, test_target = train_test_split(data, target, test_size = 0.5)\n",
    "\n",
    "classifier = KNNClassifier(13)\n",
    "\n",
    "classifier.fit(train_data, train_target)\n",
    "\n",
    "predictions = classifier.predict(test_data)\n",
    "\n",
    "accuracy = accuracy_score(test_target, predictions)\n",
    "\n",
    "accuracy"
   ],
   "metadata": {
    "collapsed": false
   }
  },
  {
   "cell_type": "code",
   "execution_count": 404,
   "outputs": [],
   "source": [],
   "metadata": {
    "collapsed": false
   }
  }
 ],
 "metadata": {
  "kernelspec": {
   "display_name": "Python 3",
   "language": "python",
   "name": "python3"
  },
  "language_info": {
   "codemirror_mode": {
    "name": "ipython",
    "version": 2
   },
   "file_extension": ".py",
   "mimetype": "text/x-python",
   "name": "python",
   "nbconvert_exporter": "python",
   "pygments_lexer": "ipython2",
   "version": "2.7.6"
  }
 },
 "nbformat": 4,
 "nbformat_minor": 0
}
